{
 "cells": [
  {
   "cell_type": "markdown",
   "id": "recent-jackson",
   "metadata": {},
   "source": [
    "## Remember to select the Python 2 kernel!"
   ]
  },
  {
   "cell_type": "code",
   "execution_count": 81,
   "id": "equivalent-reputation",
   "metadata": {},
   "outputs": [
    {
     "name": "stdout",
     "output_type": "stream",
     "text": [
      "\u001b[33mDEPRECATION: Python 2.7 reached the end of its life on January 1st, 2020. Please upgrade your Python as Python 2.7 is no longer maintained. pip 21.0 will drop support for Python 2.7 in January 2021. More details about Python 2 support in pip can be found at https://pip.pypa.io/en/latest/development/release-process/#python-2-support pip 21.0 will remove support for this functionality.\u001b[0m\n",
      "Defaulting to user installation because normal site-packages is not writeable\n",
      "Collecting shapely\n",
      "  Downloading Shapely-1.7.1-cp27-cp27mu-manylinux1_x86_64.whl (1.0 MB)\n",
      "\u001b[K     |################################| 1.0 MB 5.0 MB/s eta 0:00:01\n",
      "\u001b[?25hInstalling collected packages: shapely\n",
      "Successfully installed shapely-1.7.1\n"
     ]
    }
   ],
   "source": [
    "import sys\n",
    "!{sys.executable} -m pip install shapely"
   ]
  },
  {
   "cell_type": "code",
   "execution_count": 34,
   "id": "optional-shanghai",
   "metadata": {},
   "outputs": [],
   "source": [
    "import s2sphere\n",
    "\n",
    "from __init__ import lnglat_as_id, to_parent, get_resolution, to_children"
   ]
  },
  {
   "cell_type": "code",
   "execution_count": 5,
   "id": "political-bride",
   "metadata": {},
   "outputs": [
    {
     "ename": "TypeError",
     "evalue": "sequence item 0: expected string, long found",
     "output_type": "error",
     "traceback": [
      "\u001b[0;31m---------------------------------------------------------------------------\u001b[0m",
      "\u001b[0;31mTypeError\u001b[0m                                 Traceback (most recent call last)",
      "\u001b[0;32m<ipython-input-5-13c019461333>\u001b[0m in \u001b[0;36m<module>\u001b[0;34m()\u001b[0m\n\u001b[0;32m----> 1\u001b[0;31m \u001b[0mto_children\u001b[0m\u001b[0;34m(\u001b[0m\u001b[0;36m1153277746374246400\u001b[0m\u001b[0;34m)\u001b[0m\u001b[0;34m\u001b[0m\u001b[0m\n\u001b[0m",
      "\u001b[0;32m/home/arredond/freelance/carto/carto-spatial-extension/modules/s2/redshift/lib/__init__.py\u001b[0m in \u001b[0;36mto_children\u001b[0;34m(cell_id, resolution)\u001b[0m\n\u001b[1;32m     49\u001b[0m     \u001b[0mcell\u001b[0m \u001b[0;34m=\u001b[0m \u001b[0ms2sphere\u001b[0m\u001b[0;34m.\u001b[0m\u001b[0mCellId\u001b[0m\u001b[0;34m(\u001b[0m\u001b[0mcell_id\u001b[0m\u001b[0;34m)\u001b[0m\u001b[0;34m\u001b[0m\u001b[0m\n\u001b[1;32m     50\u001b[0m     \u001b[0mchildren_cells\u001b[0m \u001b[0;34m=\u001b[0m \u001b[0;34m(\u001b[0m\u001b[0mcell\u001b[0m\u001b[0;34m.\u001b[0m\u001b[0mchildren\u001b[0m\u001b[0;34m(\u001b[0m\u001b[0mresolution\u001b[0m\u001b[0;34m)\u001b[0m \u001b[0;32mif\u001b[0m \u001b[0mresolution\u001b[0m \u001b[0;32melse\u001b[0m \u001b[0mcell\u001b[0m\u001b[0;34m.\u001b[0m\u001b[0mchildren\u001b[0m\u001b[0;34m(\u001b[0m\u001b[0;34m)\u001b[0m\u001b[0;34m)\u001b[0m\u001b[0;34m\u001b[0m\u001b[0m\n\u001b[0;32m---> 51\u001b[0;31m     \u001b[0mchildren_cell_ids\u001b[0m \u001b[0;34m=\u001b[0m \u001b[0;34m','\u001b[0m\u001b[0;34m.\u001b[0m\u001b[0mjoin\u001b[0m\u001b[0;34m(\u001b[0m\u001b[0;34m[\u001b[0m\u001b[0mchild\u001b[0m\u001b[0;34m.\u001b[0m\u001b[0mid\u001b[0m\u001b[0;34m(\u001b[0m\u001b[0;34m)\u001b[0m \u001b[0;32mfor\u001b[0m \u001b[0mchild\u001b[0m \u001b[0;32min\u001b[0m \u001b[0mchildren_cells\u001b[0m\u001b[0;34m]\u001b[0m\u001b[0;34m)\u001b[0m\u001b[0;34m\u001b[0m\u001b[0m\n\u001b[0m\u001b[1;32m     52\u001b[0m \u001b[0;34m\u001b[0m\u001b[0m\n\u001b[1;32m     53\u001b[0m     \u001b[0;32mreturn\u001b[0m \u001b[0mchildren_cell_ids\u001b[0m\u001b[0;34m\u001b[0m\u001b[0m\n",
      "\u001b[0;31mTypeError\u001b[0m: sequence item 0: expected string, long found"
     ]
    }
   ],
   "source": [
    "to_children(1153277746374246400)"
   ]
  },
  {
   "cell_type": "code",
   "execution_count": null,
   "id": "recreational-stupid",
   "metadata": {},
   "outputs": [],
   "source": [
    "def get_cell_bounds(cell_id):\n",
    "    cell = s2sphere.Cell(s2sphere.CellId(cell_id))\n",
    "    \n",
    "    verts = []\n",
    "    for i in range(4):\n",
    "        v = cell.get_vertex(i)\n",
    "        v_ll = s2sphere.LatLng.from_point(v)\n",
    "        v_lat = v_ll.lat().degrees\n",
    "        v_lng = v_ll.lng().degrees\n",
    "        \n",
    "        # verts.append((v_lat, v_lng))\n",
    "        verts.append(str(lng) + ',' + str(lat))\n",
    "    \n",
    "    bounds_poly = Polygon(verts)\n",
    "    bounds_wkt = wkt.dumps(bounds_poly)\n",
    "    \n",
    "    return bounds_wkt"
   ]
  },
  {
   "cell_type": "code",
   "execution_count": 86,
   "id": "compact-listening",
   "metadata": {},
   "outputs": [],
   "source": [
    "def get_cell_bounds(cell_id):\n",
    "    cell = s2sphere.Cell(s2sphere.CellId(cell_id))\n",
    "    \n",
    "    verts = []\n",
    "    for i in range(4):\n",
    "        v = cell.get_vertex(i)\n",
    "        v_ll = s2sphere.LatLng.from_point(v)\n",
    "        v_lat = v_ll.lat().degrees\n",
    "        v_lng = v_ll.lng().degrees\n",
    "        \n",
    "        verts.append((v_lat, v_lng))\n",
    "    \n",
    "    bounds_poly = Polygon(verts)\n",
    "    bounds_wkt = wkt.dumps(bounds_poly)\n",
    "    \n",
    "    return bounds_wkt"
   ]
  },
  {
   "cell_type": "code",
   "execution_count": 84,
   "id": "light-flour",
   "metadata": {},
   "outputs": [],
   "source": [
    "from shapely.geometry import Polygon\n",
    "from shapely import wkt"
   ]
  },
  {
   "cell_type": "code",
   "execution_count": 44,
   "id": "weighted-parish",
   "metadata": {},
   "outputs": [],
   "source": [
    "c = s2sphere.Cell(s2sphere.CellId(955470106979205120L))"
   ]
  },
  {
   "cell_type": "code",
   "execution_count": 70,
   "id": "current-chamber",
   "metadata": {},
   "outputs": [],
   "source": [
    "v = c.get_vertex(0)"
   ]
  },
  {
   "cell_type": "code",
   "execution_count": 74,
   "id": "compatible-forum",
   "metadata": {},
   "outputs": [
    {
     "data": {
      "text/plain": [
       "<property at 0x7fa208357cb0>"
      ]
     },
     "execution_count": 74,
     "metadata": {},
     "output_type": "execute_result"
    }
   ],
   "source": [
    "s2sphere.Angle.degrees"
   ]
  },
  {
   "cell_type": "code",
   "execution_count": 75,
   "id": "dense-brand",
   "metadata": {},
   "outputs": [
    {
     "data": {
      "text/plain": [
       "39.9420981708924"
      ]
     },
     "execution_count": 75,
     "metadata": {},
     "output_type": "execute_result"
    }
   ],
   "source": [
    "latlng.lat().degrees"
   ]
  },
  {
   "cell_type": "code",
   "execution_count": 49,
   "id": "graphic-letters",
   "metadata": {},
   "outputs": [],
   "source": [
    "latlng = s2sphere.LatLng.from_point(c.get_vertex(0))"
   ]
  },
  {
   "cell_type": "code",
   "execution_count": null,
   "id": "furnished-bottom",
   "metadata": {},
   "outputs": [],
   "source": [
    "s2sphere.Point()"
   ]
  },
  {
   "cell_type": "code",
   "execution_count": 68,
   "id": "organized-prerequisite",
   "metadata": {},
   "outputs": [
    {
     "data": {
      "text/plain": [
       "s2sphere.sphere.LatLng"
      ]
     },
     "execution_count": 68,
     "metadata": {},
     "output_type": "execute_result"
    }
   ],
   "source": [
    "s2sphere.LatLng.from_point()"
   ]
  },
  {
   "cell_type": "code",
   "execution_count": 67,
   "id": "preceding-benchmark",
   "metadata": {},
   "outputs": [
    {
     "data": {
      "text/plain": [
       "Angle: -0.0526665525324"
      ]
     },
     "execution_count": 67,
     "metadata": {},
     "output_type": "execute_result"
    }
   ],
   "source": [
    "s2sphere.LatLng.lat()"
   ]
  },
  {
   "cell_type": "code",
   "execution_count": 66,
   "id": "satisfactory-executive",
   "metadata": {},
   "outputs": [
    {
     "data": {
      "text/plain": [
       "LatLng: 39.9420981709,-3.01757118161"
      ]
     },
     "execution_count": 66,
     "metadata": {},
     "output_type": "execute_result"
    }
   ],
   "source": [
    "latlng.longitude()"
   ]
  },
  {
   "cell_type": "code",
   "execution_count": 36,
   "id": "pleasant-corruption",
   "metadata": {},
   "outputs": [
    {
     "data": {
      "text/plain": [
       "955470106979205120L"
      ]
     },
     "execution_count": 36,
     "metadata": {},
     "output_type": "execute_result"
    }
   ],
   "source": [
    "lnglat_as_id(-3, 40, 10)"
   ]
  },
  {
   "cell_type": "code",
   "execution_count": 14,
   "id": "gentle-photographer",
   "metadata": {},
   "outputs": [
    {
     "data": {
      "text/plain": [
       "955470935358439424L"
      ]
     },
     "execution_count": 14,
     "metadata": {},
     "output_type": "execute_result"
    }
   ],
   "source": [
    "to_parent(lnglat_as_id(-3, 40, 20))"
   ]
  },
  {
   "cell_type": "code",
   "execution_count": 1,
   "id": "complimentary-automation",
   "metadata": {},
   "outputs": [],
   "source": [
    "import s2sphere"
   ]
  },
  {
   "cell_type": "code",
   "execution_count": 37,
   "id": "friendly-processor",
   "metadata": {},
   "outputs": [],
   "source": [
    "ci = s2sphere.CellId(955470106979205120L)"
   ]
  },
  {
   "cell_type": "code",
   "execution_count": 40,
   "id": "outstanding-departure",
   "metadata": {},
   "outputs": [
    {
     "data": {
      "text/plain": [
       "(0L, 993001472, 2014314496)"
      ]
     },
     "execution_count": 40,
     "metadata": {},
     "output_type": "execute_result"
    }
   ],
   "source": [
    "ci.get_center_si_ti()"
   ]
  },
  {
   "cell_type": "code",
   "execution_count": 39,
   "id": "combined-sculpture",
   "metadata": {},
   "outputs": [
    {
     "data": {
      "text/plain": [
       "(-0.05201498667399088, 0.8397626876831055)"
      ]
     },
     "execution_count": 39,
     "metadata": {},
     "output_type": "execute_result"
    }
   ],
   "source": [
    "ci.get_center_uv()"
   ]
  },
  {
   "cell_type": "code",
   "execution_count": 33,
   "id": "enabling-tuner",
   "metadata": {},
   "outputs": [
    {
     "ename": "TypeError",
     "evalue": "get_vertex_neighbors() takes exactly 2 arguments (1 given)",
     "output_type": "error",
     "traceback": [
      "\u001b[0;31m---------------------------------------------------------------------------\u001b[0m",
      "\u001b[0;31mTypeError\u001b[0m                                 Traceback (most recent call last)",
      "\u001b[0;32m<ipython-input-33-7f3f422b30d8>\u001b[0m in \u001b[0;36m<module>\u001b[0;34m()\u001b[0m\n\u001b[0;32m----> 1\u001b[0;31m \u001b[0mci\u001b[0m\u001b[0;34m.\u001b[0m\u001b[0mget_vertex_neighbors\u001b[0m\u001b[0;34m(\u001b[0m\u001b[0;34m)\u001b[0m\u001b[0;34m\u001b[0m\u001b[0m\n\u001b[0m",
      "\u001b[0;31mTypeError\u001b[0m: get_vertex_neighbors() takes exactly 2 arguments (1 given)"
     ]
    }
   ],
   "source": [
    "ci.get_vertex_neighbors()"
   ]
  },
  {
   "cell_type": "code",
   "execution_count": 32,
   "id": "completed-factory",
   "metadata": {},
   "outputs": [
    {
     "data": {
      "text/plain": [
       "(CellId: 10013c0000000000,\n",
       " CellId: 10014c0000000000,\n",
       " CellId: 10015c0000000000,\n",
       " CellId: 10016c0000000000)"
      ]
     },
     "execution_count": 32,
     "metadata": {},
     "output_type": "execute_result"
    }
   ],
   "source": [
    "ci.get_edge_neighbors()"
   ]
  },
  {
   "cell_type": "code",
   "execution_count": 26,
   "id": "static-staff",
   "metadata": {},
   "outputs": [],
   "source": [
    "cell = s2sphere.Cell(s2sphere.CellId(1153277746374246400))"
   ]
  },
  {
   "cell_type": "code",
   "execution_count": 28,
   "id": "historical-society",
   "metadata": {},
   "outputs": [
    {
     "data": {
      "text/plain": [
       "Cap: Point: (0.999706238490635, 0.017138213484866768, 0.017138213484866768) 1.78155768419e-06"
      ]
     },
     "execution_count": 28,
     "metadata": {},
     "output_type": "execute_result"
    }
   ],
   "source": [
    "cell.get_cap_bound()"
   ]
  },
  {
   "cell_type": "code",
   "execution_count": 29,
   "id": "racial-discretion",
   "metadata": {},
   "outputs": [
    {
     "data": {
      "text/plain": [
       "Point: (0.9997062820481497, 0.017136943039310588, 0.017136943039310588)"
      ]
     },
     "execution_count": 29,
     "metadata": {},
     "output_type": "execute_result"
    }
   ],
   "source": [
    "cell.get_center()"
   ]
  },
  {
   "cell_type": "code",
   "execution_count": 30,
   "id": "abroad-officer",
   "metadata": {},
   "outputs": [
    {
     "data": {
      "text/plain": [
       "Point: (1, 0.01714197794596354, 0.01714197794596354)"
      ]
     },
     "execution_count": 30,
     "metadata": {},
     "output_type": "execute_result"
    }
   ],
   "source": [
    "cell.get_center_raw()"
   ]
  },
  {
   "cell_type": "code",
   "execution_count": 31,
   "id": "fatal-filing",
   "metadata": {},
   "outputs": [
    {
     "ename": "TypeError",
     "evalue": "get_latitude() takes exactly 3 arguments (1 given)",
     "output_type": "error",
     "traceback": [
      "\u001b[0;31m---------------------------------------------------------------------------\u001b[0m",
      "\u001b[0;31mTypeError\u001b[0m                                 Traceback (most recent call last)",
      "\u001b[0;32m<ipython-input-31-0f21b9846535>\u001b[0m in \u001b[0;36m<module>\u001b[0;34m()\u001b[0m\n\u001b[0;32m----> 1\u001b[0;31m \u001b[0mcell\u001b[0m\u001b[0;34m.\u001b[0m\u001b[0mget_latitude\u001b[0m\u001b[0;34m(\u001b[0m\u001b[0;34m)\u001b[0m\u001b[0;34m\u001b[0m\u001b[0m\n\u001b[0m",
      "\u001b[0;31mTypeError\u001b[0m: get_latitude() takes exactly 3 arguments (1 given)"
     ]
    }
   ],
   "source": []
  },
  {
   "cell_type": "code",
   "execution_count": 20,
   "id": "awful-rocket",
   "metadata": {},
   "outputs": [
    {
     "data": {
      "text/plain": [
       "9"
      ]
     },
     "execution_count": 20,
     "metadata": {},
     "output_type": "execute_result"
    }
   ],
   "source": [
    "ci.level()"
   ]
  },
  {
   "cell_type": "code",
   "execution_count": 23,
   "id": "subsequent-administration",
   "metadata": {},
   "outputs": [
    {
     "data": {
      "text/plain": [
       "20"
      ]
     },
     "execution_count": 23,
     "metadata": {},
     "output_type": "execute_result"
    }
   ],
   "source": [
    "len(list(ci.get_all_neighbors(11)))"
   ]
  },
  {
   "cell_type": "code",
   "execution_count": 22,
   "id": "editorial-english",
   "metadata": {},
   "outputs": [
    {
     "data": {
      "text/plain": [
       "[CellId: 1001404000000000,\n",
       " CellId: 100140c000000000,\n",
       " CellId: 1001414000000000,\n",
       " CellId: 100141c000000000,\n",
       " CellId: 1001424000000000,\n",
       " CellId: 100142c000000000,\n",
       " CellId: 1001434000000000,\n",
       " CellId: 100143c000000000,\n",
       " CellId: 1001444000000000,\n",
       " CellId: 100144c000000000,\n",
       " CellId: 1001454000000000,\n",
       " CellId: 100145c000000000,\n",
       " CellId: 1001464000000000,\n",
       " CellId: 100146c000000000,\n",
       " CellId: 1001474000000000,\n",
       " CellId: 100147c000000000]"
      ]
     },
     "execution_count": 22,
     "metadata": {},
     "output_type": "execute_result"
    }
   ],
   "source": [
    "list(s2sphere.CellId(1153277746374246400).children(11))"
   ]
  },
  {
   "cell_type": "code",
   "execution_count": 20,
   "id": "dietary-wells",
   "metadata": {},
   "outputs": [
    {
     "name": "stdout",
     "output_type": "stream",
     "text": [
      "1153273623205642240\n",
      "1153274172961456128\n",
      "1153274722717270016\n",
      "1153275272473083904\n",
      "1153275822228897792\n",
      "1153276371984711680\n",
      "1153276921740525568\n",
      "1153277471496339456\n",
      "1153278021252153344\n",
      "1153278571007967232\n",
      "1153279120763781120\n",
      "1153279670519595008\n",
      "1153280220275408896\n",
      "1153280770031222784\n",
      "1153281319787036672\n",
      "1153281869542850560\n"
     ]
    }
   ],
   "source": [
    "for child in s2sphere.CellId(1153277746374246400).children(11):\n",
    "    print(child.id())"
   ]
  },
  {
   "cell_type": "code",
   "execution_count": 9,
   "id": "automatic-philip",
   "metadata": {},
   "outputs": [
    {
     "data": {
      "text/plain": [
       "9223372036854775807"
      ]
     },
     "execution_count": 9,
     "metadata": {},
     "output_type": "execute_result"
    }
   ],
   "source": [
    "sys.maxint"
   ]
  },
  {
   "cell_type": "code",
   "execution_count": null,
   "id": "headed-destination",
   "metadata": {},
   "outputs": [],
   "source": [
    "1153277746374246400"
   ]
  },
  {
   "cell_type": "code",
   "execution_count": null,
   "id": "metric-quilt",
   "metadata": {},
   "outputs": [],
   "source": [
    "int.ma"
   ]
  },
  {
   "cell_type": "code",
   "execution_count": 8,
   "id": "duplicate-fountain",
   "metadata": {},
   "outputs": [
    {
     "data": {
      "text/plain": [
       "1153277746374246400L"
      ]
     },
     "execution_count": 8,
     "metadata": {},
     "output_type": "execute_result"
    }
   ],
   "source": [
    "long(1153277746374246400)"
   ]
  },
  {
   "cell_type": "code",
   "execution_count": 7,
   "id": "sexual-stuart",
   "metadata": {},
   "outputs": [
    {
     "data": {
      "text/plain": [
       "1153277746374246400"
      ]
     },
     "execution_count": 7,
     "metadata": {},
     "output_type": "execute_result"
    }
   ],
   "source": [
    "int(1153277746374246400)"
   ]
  },
  {
   "cell_type": "code",
   "execution_count": 6,
   "id": "developing-lithuania",
   "metadata": {},
   "outputs": [
    {
     "data": {
      "text/plain": [
       "Cap: Point: (0.6602636766561707, 0.0941183042793086, 0.7451131605924453) 3.9694918608e-19"
      ]
     },
     "execution_count": 6,
     "metadata": {},
     "output_type": "execute_result"
    }
   ],
   "source": [
    "s2sphere.Cell.from_lat_lng(s2sphere.LatLng(40, -3)).get_cap_bound()"
   ]
  },
  {
   "cell_type": "code",
   "execution_count": 31,
   "id": "affected-payment",
   "metadata": {},
   "outputs": [
    {
     "data": {
      "text/plain": [
       "5156863736839430841"
      ]
     },
     "execution_count": 31,
     "metadata": {},
     "output_type": "execute_result"
    }
   ],
   "source": [
    "s2sphere.Cell.from_lat_lng(s2sphere.LatLng(40, -3)).id().id()"
   ]
  },
  {
   "cell_type": "code",
   "execution_count": 35,
   "id": "removable-excellence",
   "metadata": {},
   "outputs": [],
   "source": [
    "def s2_id_from_lat_lng(lat, lng):\n",
    "    lat_lng = s2sphere.LatLng(lat, lng)\n",
    "    cell_id = str(s2sphere.CellId.from_lat_lng(lat_lng).id())\n",
    "\n",
    "    return cell_id"
   ]
  },
  {
   "cell_type": "code",
   "execution_count": 36,
   "id": "mental-picture",
   "metadata": {},
   "outputs": [
    {
     "data": {
      "text/plain": [
       "'5156863736839430841'"
      ]
     },
     "execution_count": 36,
     "metadata": {},
     "output_type": "execute_result"
    }
   ],
   "source": [
    "s2_id_from_lat_lng(40.0, -3.0)"
   ]
  },
  {
   "cell_type": "markdown",
   "id": "chinese-allowance",
   "metadata": {},
   "source": [
    "## BigQuery\n",
    "\n",
    "```sql\n",
    "SELECT bqcarto.s2.LONGLAT_ASID(-3.7038, 40.4168, 8);\n",
    "-- 955378847514099712\n",
    "```\n",
    "\n",
    "## Region Coverer\n",
    "0d423"
   ]
  },
  {
   "cell_type": "code",
   "execution_count": 11,
   "id": "assumed-lighting",
   "metadata": {},
   "outputs": [],
   "source": [
    "import math"
   ]
  },
  {
   "cell_type": "code",
   "execution_count": 9,
   "id": "checked-contents",
   "metadata": {},
   "outputs": [
    {
     "data": {
      "text/plain": [
       "CellId: 0d42300000000000"
      ]
     },
     "execution_count": 9,
     "metadata": {},
     "output_type": "execute_result"
    }
   ],
   "source": [
    "s2sphere.CellId(955378847514099712) # level 8"
   ]
  },
  {
   "cell_type": "code",
   "execution_count": null,
   "id": "latter-afternoon",
   "metadata": {},
   "outputs": [],
   "source": [
    "def s2_id_from_lat_lng(lat, lng):\n",
    "\n",
    "    lat_lng = LatLng(lat, lng)\n",
    "    cell_id = str(CellId.from_lat_lng(lat_lng).id())\n",
    "\n",
    "    return cell_id"
   ]
  },
  {
   "cell_type": "code",
   "execution_count": 12,
   "id": "hourly-electricity",
   "metadata": {},
   "outputs": [
    {
     "name": "stdout",
     "output_type": "stream",
     "text": [
      "CellId: 0d42287e1665a2ef\n",
      "955370592962716399\n",
      "\n",
      "\n",
      "CellId: 0d42300000000000\n",
      "955378847514099712\n"
     ]
    }
   ],
   "source": [
    "lat = 40.4168\n",
    "lng = -3.7038\n",
    "\n",
    "lat = math.radians(lat)\n",
    "lng = math.radians(lng)\n",
    "\n",
    "lat_lng = s2sphere.LatLng(lat, lng)\n",
    "cell_id = s2sphere.CellId.from_lat_lng(lat_lng)\n",
    "\n",
    "print(cell_id)\n",
    "print(cell_id.id())\n",
    "print('\\n')\n",
    "\n",
    "print(cell_id.parent(8))\n",
    "print(cell_id.parent(8).id())"
   ]
  },
  {
   "cell_type": "code",
   "execution_count": 13,
   "id": "instant-message",
   "metadata": {},
   "outputs": [
    {
     "data": {
      "text/plain": [
       "'d42300000000000'"
      ]
     },
     "execution_count": 13,
     "metadata": {},
     "output_type": "execute_result"
    }
   ],
   "source": [
    "'{:x}'.format(955378847514099712)"
   ]
  },
  {
   "cell_type": "code",
   "execution_count": null,
   "id": "lovely-middle",
   "metadata": {},
   "outputs": [],
   "source": [
    "9223372036854775807"
   ]
  },
  {
   "cell_type": "code",
   "execution_count": 18,
   "id": "bound-chess",
   "metadata": {},
   "outputs": [
    {
     "data": {
      "text/plain": [
       "30"
      ]
     },
     "execution_count": 18,
     "metadata": {},
     "output_type": "execute_result"
    }
   ],
   "source": [
    "cell_id.level()"
   ]
  },
  {
   "cell_type": "code",
   "execution_count": 17,
   "id": "laden-marijuana",
   "metadata": {},
   "outputs": [
    {
     "data": {
      "text/plain": [
       "29"
      ]
     },
     "execution_count": 17,
     "metadata": {},
     "output_type": "execute_result"
    }
   ],
   "source": [
    "cell_id.parent().level()"
   ]
  },
  {
   "cell_type": "code",
   "execution_count": null,
   "id": "greenhouse-bargain",
   "metadata": {},
   "outputs": [],
   "source": []
  }
 ],
 "metadata": {
  "kernelspec": {
   "display_name": "Python 2",
   "language": "python",
   "name": "python2"
  },
  "language_info": {
   "codemirror_mode": {
    "name": "ipython",
    "version": 2
   },
   "file_extension": ".py",
   "mimetype": "text/x-python",
   "name": "python",
   "nbconvert_exporter": "python",
   "pygments_lexer": "ipython2",
   "version": "2.7.18"
  }
 },
 "nbformat": 4,
 "nbformat_minor": 5
}
